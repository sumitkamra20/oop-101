{
 "cells": [
  {
   "cell_type": "markdown",
   "id": "cd4e02ac",
   "metadata": {},
   "source": [
    "## Creating class and instances"
   ]
  },
  {
   "cell_type": "code",
   "execution_count": 1,
   "id": "45540621",
   "metadata": {},
   "outputs": [],
   "source": [
    "class Employee:\n",
    "    def __init__(self, first, last, pay):\n",
    "        self.first = first\n",
    "        self.last = last\n",
    "        self.pay = pay\n",
    "        self.email = f\"{first.lower()}.{last.lower()}@kantar.com\"\n",
    "\n",
    "    def fullname(self):\n",
    "        return f\"{self.first} {self.last}\"\n",
    "    def description(self):\n",
    "        return f\"The employee {self.fullname()} \\\n",
    "            with an email {self.email} \\\n",
    "            receives a pay of {self.pay}.\"\n"
   ]
  },
  {
   "cell_type": "markdown",
   "id": "2c045e2f",
   "metadata": {},
   "source": [
    "## Creating class variables\n",
    "### Remember class variables contains data that is similar to all the instances. An example will be raise amount"
   ]
  },
  {
   "cell_type": "code",
   "execution_count": 8,
   "id": "bba6a106",
   "metadata": {},
   "outputs": [
    {
     "name": "stdout",
     "output_type": "stream",
     "text": [
      "sam.walters@kantar.com\n",
      "15000\n",
      "15750\n"
     ]
    }
   ],
   "source": [
    "class Employee:\n",
    "    raise_amount = 1.05 #This is a class variable which can't be assigned through init function below.. \n",
    "    \n",
    "    def __init__(self, first, last, pay):\n",
    "        self.first = first\n",
    "        self.last = last\n",
    "        self.pay = pay\n",
    "        self.email = f\"{first.lower()}.{last.lower()}@kantar.com\"\n",
    "\n",
    "    def fullname(self):\n",
    "        return f\"{self.first} {self.last}\"\n",
    "\n",
    "    def get_pay(sef):\n",
    "        return self.pay\n",
    "\n",
    "    ## The class variable can be referred to through instance (self) or through class\n",
    "    def apply_raise(self):\n",
    "        self.pay = int(self.pay * self.raise_amount) \n",
    "\n",
    "sumit = Employee('Sumit', 'Kamra', 20_000)\n",
    "sam = Employee('Sam', 'Walters', 15_000)\n",
    "\n",
    "print(sam.email)\n",
    "\n",
    "print(sam.pay)\n",
    "sam.apply_raise()\n",
    "print(sam.pay)"
   ]
  },
  {
   "cell_type": "code",
   "execution_count": 9,
   "id": "a2261b18",
   "metadata": {},
   "outputs": [
    {
     "name": "stdout",
     "output_type": "stream",
     "text": [
      "1.05\n",
      "1.05\n",
      "1.05\n"
     ]
    }
   ],
   "source": [
    "## All the cases below will result in similar value. \n",
    "print(sumit.raise_amount)\n",
    "print(sam.raise_amount)\n",
    "print(Employee.raise_amount)\n"
   ]
  },
  {
   "cell_type": "markdown",
   "id": "8f4ae632",
   "metadata": {},
   "source": [
    "### What happens if we print the namespace of instance and the class"
   ]
  },
  {
   "cell_type": "code",
   "execution_count": 10,
   "id": "88dc1f0b",
   "metadata": {},
   "outputs": [
    {
     "data": {
      "text/plain": [
       "{'first': 'Sumit',\n",
       " 'last': 'Kamra',\n",
       " 'pay': 20000,\n",
       " 'email': 'sumit.kamra@kantar.com'}"
      ]
     },
     "execution_count": 10,
     "metadata": {},
     "output_type": "execute_result"
    }
   ],
   "source": [
    "# Namespace can be printed through __dict__ attribute. Let's try \n",
    "sumit.__dict__"
   ]
  },
  {
   "cell_type": "markdown",
   "id": "46f7f991",
   "metadata": {},
   "source": [
    "**What we see above is there's no raise amount here**  "
   ]
  },
  {
   "cell_type": "code",
   "execution_count": 12,
   "id": "efa5cb9b",
   "metadata": {},
   "outputs": [
    {
     "name": "stdout",
     "output_type": "stream",
     "text": [
      "{'__module__': '__main__', 'raise_amount': 1.05, '__init__': <function Employee.__init__ at 0x7f263f744040>, 'fullname': <function Employee.fullname at 0x7f263f7441f0>, 'get_pay': <function Employee.get_pay at 0x7f263f744550>, 'apply_raise': <function Employee.apply_raise at 0x7f263f744670>, '__dict__': <attribute '__dict__' of 'Employee' objects>, '__weakref__': <attribute '__weakref__' of 'Employee' objects>, '__doc__': None}\n"
     ]
    }
   ],
   "source": [
    "print(Employee.__dict__)"
   ]
  },
  {
   "cell_type": "markdown",
   "id": "612b82bf",
   "metadata": {},
   "source": [
    "### Changing the class variable through class and instance"
   ]
  },
  {
   "cell_type": "code",
   "execution_count": 13,
   "id": "b8db6fd8",
   "metadata": {},
   "outputs": [
    {
     "name": "stdout",
     "output_type": "stream",
     "text": [
      "1.06\n",
      "1.06\n",
      "1.06\n"
     ]
    }
   ],
   "source": [
    "Employee.raise_amount = 1.06\n",
    "print(sumit.raise_amount)\n",
    "print(sam.raise_amount)\n",
    "print(Employee.raise_amount)"
   ]
  },
  {
   "cell_type": "code",
   "execution_count": 14,
   "id": "8d168180",
   "metadata": {},
   "outputs": [
    {
     "name": "stdout",
     "output_type": "stream",
     "text": [
      "1.07\n",
      "1.06\n",
      "1.06\n"
     ]
    }
   ],
   "source": [
    "# Now I will change the raise amount of one instance to 7% and see what happens\n",
    "sumit.raise_amount = 1.07\n",
    "print(sumit.raise_amount)\n",
    "print(sam.raise_amount)\n",
    "print(Employee.raise_amount)"
   ]
  },
  {
   "cell_type": "code",
   "execution_count": 15,
   "id": "86350aff",
   "metadata": {},
   "outputs": [
    {
     "name": "stdout",
     "output_type": "stream",
     "text": [
      "{'first': 'Sumit', 'last': 'Kamra', 'pay': 20000, 'email': 'sumit.kamra@kantar.com', 'raise_amount': 1.07}\n",
      "{'first': 'Sam', 'last': 'Walters', 'pay': 15750, 'email': 'sam.walters@kantar.com'}\n"
     ]
    }
   ],
   "source": [
    "# Let's see the namespace of sumit now\n",
    "# We can override the class variable through an instance\n",
    "print(sumit.__dict__)\n",
    "print(sam.__dict__)"
   ]
  },
  {
   "cell_type": "code",
   "execution_count": 18,
   "id": "f67fa15b",
   "metadata": {},
   "outputs": [
    {
     "name": "stdout",
     "output_type": "stream",
     "text": [
      "1.07\n",
      "1.08\n",
      "1.08\n"
     ]
    }
   ],
   "source": [
    "# The overridden value still holds even if we reassign the class variable. \n",
    "Employee.raise_amount = 1.08\n",
    "print(sumit.raise_amount)\n",
    "print(sam.raise_amount)\n",
    "print(Employee.raise_amount)"
   ]
  },
  {
   "cell_type": "code",
   "execution_count": 19,
   "id": "e2922d86",
   "metadata": {},
   "outputs": [
    {
     "name": "stdout",
     "output_type": "stream",
     "text": [
      "1.08\n",
      "1.08\n",
      "1.08\n"
     ]
    }
   ],
   "source": [
    "# Can we delete the override - let's try \n",
    "del sumit.__dict__['raise_amount']\n",
    "print(sumit.raise_amount)\n",
    "print(sam.raise_amount)\n",
    "print(Employee.raise_amount)\n",
    "\n",
    "# Yes, we can delete the instances's attribute which was over riding the class variable. "
   ]
  },
  {
   "cell_type": "markdown",
   "id": "81e9f605",
   "metadata": {},
   "source": [
    "### Real use case of a class variable to count the number of students"
   ]
  },
  {
   "cell_type": "code",
   "execution_count": 26,
   "id": "34ef7735",
   "metadata": {},
   "outputs": [],
   "source": [
    "# Creating the class implementing the class variable that to keep count of employees\n",
    "\n",
    "class Employee:\n",
    "    no_of_employees = 0\n",
    "    raise_amount = 1.05 #This is a class variable which can't be assigned through init function below.. \n",
    "    \n",
    "    def __init__(self, first, last, pay):\n",
    "        self.first = first\n",
    "        self.last = last\n",
    "        self.pay = pay\n",
    "        self.email = f\"{first.lower()}.{last.lower()}@kantar.com\"\n",
    "        \n",
    "        Employee.no_of_employees += 1\n",
    "\n",
    "    def fullname(self):\n",
    "        return f\"{self.first} {self.last}\"\n",
    "\n",
    "    def get_pay(sef):\n",
    "        return self.pay\n",
    "\n",
    "    ## The class variable can be referred to through instance (self) or through class\n",
    "    def apply_raise(self):\n",
    "        self.pay = int(self.pay * self.raise_amount) "
   ]
  },
  {
   "cell_type": "code",
   "execution_count": 22,
   "id": "1442990d",
   "metadata": {},
   "outputs": [
    {
     "data": {
      "text/plain": [
       "0"
      ]
     },
     "execution_count": 22,
     "metadata": {},
     "output_type": "execute_result"
    }
   ],
   "source": [
    "Employee.no_of_employees"
   ]
  },
  {
   "cell_type": "code",
   "execution_count": 27,
   "id": "22130fe8",
   "metadata": {},
   "outputs": [
    {
     "name": "stdout",
     "output_type": "stream",
     "text": [
      "3\n",
      "3\n"
     ]
    }
   ],
   "source": [
    "ash = Employee('Ash', 'Verma', 2_000)\n",
    "savita = Employee('Savita', 'Lal', 3_000)\n",
    "neha = Employee ('Neha', 'Putra', 6_000)\n",
    "print (Employee.no_of_employees)\n",
    "print (ash.no_of_employees)\n",
    "\n",
    " "
   ]
  },
  {
   "cell_type": "markdown",
   "id": "8e19e569",
   "metadata": {},
   "source": [
    "## Class methods and static methods"
   ]
  },
  {
   "cell_type": "markdown",
   "id": "e8fe416c",
   "metadata": {},
   "source": [
    "### Creating class methods"
   ]
  },
  {
   "cell_type": "markdown",
   "id": "b1c995c4",
   "metadata": {},
   "source": [
    "**Usually methods take the instance as the argument but how can it take the class as the default argument**\n",
    "\n",
    "**A regular mmethod takes instance as the argument but to change it to a class method, we can simply add a decorator to the top @classmethod to turn the method into a class method**"
   ]
  },
  {
   "cell_type": "code",
   "execution_count": 30,
   "id": "9e51b65e",
   "metadata": {},
   "outputs": [],
   "source": [
    "class Employee:\n",
    "    no_of_employees = 0\n",
    "    raise_amount = 1.04 #This is a class variable which can't be assigned through init function below.. \n",
    "    \n",
    "    def __init__(self, first, last, pay):\n",
    "        self.first = first\n",
    "        self.last = last\n",
    "        self.pay = pay\n",
    "        self.email = f\"{first.lower()}.{last.lower()}@kantar.com\"\n",
    "        \n",
    "        Employee.no_of_employees += 1\n",
    "\n",
    "    def fullname(self):\n",
    "        return f\"{self.first} {self.last}\"\n",
    "\n",
    "    def get_pay(sef):\n",
    "        return self.pay\n",
    "\n",
    "    ## The class variable can be referred to through instance (self) or through class\n",
    "    def apply_raise(self):\n",
    "        self.pay = int(self.pay * self.raise_amount) \n",
    "    \n",
    "    # Using the decorator to define a class method\n",
    "    @classmethod    \n",
    "    def set_raise_amount(cls, amount):\n",
    "        cls.raise_amount = amount "
   ]
  },
  {
   "cell_type": "code",
   "execution_count": 32,
   "id": "5dcd83ca",
   "metadata": {},
   "outputs": [
    {
     "name": "stdout",
     "output_type": "stream",
     "text": [
      "1.07\n",
      "1.07\n",
      "1.07\n",
      "1.07\n",
      "Changing the raise amount to 1.07\n",
      "1.08\n",
      "1.08\n",
      "1.08\n",
      "1.08\n"
     ]
    }
   ],
   "source": [
    "ash = Employee('Ash', 'Verma', 2_000)\n",
    "savita = Employee('Savita', 'Lal', 3_000)\n",
    "neha = Employee ('Neha', 'Putra', 6_000)\n",
    "\n",
    "\n",
    "\n",
    "print (Employee.raise_amount)\n",
    "print(neha.raise_amount)\n",
    "print(savita.raise_amount)\n",
    "print(ash.raise_amount)\n",
    "\n",
    "amt = 1.07\n",
    "print (f\"Changing the raise amount to {amt}\")\n",
    "Employee.set_raise_amount(amt)\n",
    "neha.set_raise_amount(1.08) # This is possible but it doesn't make any sense and should aviod doing it. \n",
    "\n",
    "print (Employee.raise_amount)\n",
    "print(neha.raise_amount)\n",
    "print(savita.raise_amount)\n",
    "print(ash.raise_amount)"
   ]
  },
  {
   "cell_type": "markdown",
   "id": "5dfef2c8",
   "metadata": {},
   "source": [
    "### Using classmethod decorator to create an alternative constructor"
   ]
  },
  {
   "cell_type": "code",
   "execution_count": 43,
   "id": "44b4158c",
   "metadata": {},
   "outputs": [],
   "source": [
    "# Some more useful cases\n",
    "emp_1 = \"Sumit-Kamra-30000\"\n",
    "emp_2 = \"Ashish-Kanwar-20000\"\n",
    "emp_3 = \"Savita-Chabra-25000\"\n",
    "\n",
    "# We will use an alternative constructor for the user to pass a string instead\n",
    "# in the class below, if we need to create an instance with \n",
    "\n",
    "class Employee:\n",
    "    no_of_employees = 0\n",
    "    raise_amount = 1.04 #This is a class variable which can't be assigned through init function below.. \n",
    "    \n",
    "    def __init__(self, first, last, pay):\n",
    "        self.first = first\n",
    "        self.last = last\n",
    "        self.pay = pay\n",
    "        self.email = f\"{first.lower()}.{last.lower()}@kantar.com\"\n",
    "        \n",
    "        Employee.no_of_employees += 1\n",
    "\n",
    "    def fullname(self):\n",
    "        return f\"{self.first} {self.last}\"\n",
    "\n",
    "    def get_pay(sef):\n",
    "        return self.pay\n",
    "\n",
    "    ## The class variable can be referred to through instance (self) or through class\n",
    "    def apply_raise(self):\n",
    "        self.pay = int(self.pay * self.raise_amount) \n",
    "    \n",
    "    # Using the decorator to define a class method\n",
    "    @classmethod    \n",
    "    def set_raise_amount(cls, amount):\n",
    "        cls.raise_amount = amount \n",
    "\n",
    "    @classmethod\n",
    "    def from_string(cls, emp_string):\n",
    "        first, last, sal = emp_string.split('-')\n",
    "        return cls(first, last, float(sal))\n",
    "    \n"
   ]
  },
  {
   "cell_type": "code",
   "execution_count": 38,
   "id": "0e28e6a3",
   "metadata": {},
   "outputs": [
    {
     "name": "stdout",
     "output_type": "stream",
     "text": [
      "A new instance created.. with variable <__main__.Employee object at 0x7f263f9cc1c0>, Name Ash Verma.\n",
      "A new instance created.. with variable <__main__.Employee object at 0x7f263f9cc5e0>, Name Savita Lal.\n",
      "A new instance created.. with variable <__main__.Employee object at 0x7f263f9cc820>, Name Neha Putra.\n"
     ]
    }
   ],
   "source": [
    "ash = Employee('Ash', 'Verma', 2_000)\n",
    "savita = Employee('Savita', 'Lal', 3_000)\n",
    "neha = Employee ('Neha', 'Putra', 6_000)"
   ]
  },
  {
   "cell_type": "code",
   "execution_count": 40,
   "id": "d31ed6cd",
   "metadata": {},
   "outputs": [
    {
     "name": "stdout",
     "output_type": "stream",
     "text": [
      "A new instance created.. with variable <__main__.Employee object at 0x7f2666bcaef0>, Name Sumit Kamra.\n"
     ]
    }
   ],
   "source": [
    "sumi = Employee.from_string(emp_1)"
   ]
  },
  {
   "cell_type": "code",
   "execution_count": 41,
   "id": "f73e8039",
   "metadata": {},
   "outputs": [
    {
     "name": "stdout",
     "output_type": "stream",
     "text": [
      "30000.0\n"
     ]
    }
   ],
   "source": [
    "print(sumi.pay)"
   ]
  },
  {
   "cell_type": "code",
   "execution_count": 46,
   "id": "7846a328",
   "metadata": {},
   "outputs": [
    {
     "name": "stdout",
     "output_type": "stream",
     "text": [
      "Ashish\n"
     ]
    }
   ],
   "source": [
    "ashi = Employee.from_string(emp_2)\n",
    "print(ashi.first)"
   ]
  },
  {
   "cell_type": "markdown",
   "id": "74e817d2",
   "metadata": {},
   "source": [
    "### Using static methods - they don't pass anything automatically"
   ]
  },
  {
   "cell_type": "markdown",
   "id": "e82126b1",
   "metadata": {},
   "source": [
    "**Static methods work like a regular functions but they exist in a class because they are somehow linked to the class\n",
    "but they dont need to access the class or instance object and its methods**\n",
    "\n",
    "**In this below example, we want to create a method that takes a date and tell us if this is a workday or not.\n",
    "This method is related to the class Employee in some way but doesn't link wiht the instances.**"
   ]
  },
  {
   "cell_type": "code",
   "execution_count": 75,
   "id": "25a46b06",
   "metadata": {},
   "outputs": [],
   "source": [
    "# Implementing a static method to return if the day is a workday or not.\n",
    "\n",
    "\n",
    "class Employee:\n",
    "    no_of_employees = 0\n",
    "    raise_amount = 1.04 #This is a class variable which can't be assigned through init function below.. \n",
    "    \n",
    "    def __init__(self, first, last, pay):\n",
    "        self.first = first\n",
    "        self.last = last\n",
    "        self.pay = pay\n",
    "        self.email = f\"{first.lower()}.{last.lower()}@kantar.com\"\n",
    "        \n",
    "        Employee.no_of_employees += 1\n",
    "\n",
    "    def fullname(self):\n",
    "        return f\"{self.first} {self.last}\"\n",
    "\n",
    "    def get_pay(sef):\n",
    "        return self.pay\n",
    "\n",
    "    ## The class variable can be referred to through instance (self) or through class\n",
    "    def apply_raise(self):\n",
    "        self.pay = int(self.pay * self.raise_amount) \n",
    "    \n",
    "    def get_description(self):\n",
    "        return f\"Name: {self.fullname()} \\nSalary: {self.pay} \\nemail: {self.email}\"\n",
    "\n",
    "    # Using the decorator to define a class method\n",
    "    @classmethod    \n",
    "    def set_raise_amount(cls, amount):\n",
    "        cls.raise_amount = amount \n",
    "\n",
    "    @classmethod\n",
    "    def from_string(cls, emp_string):\n",
    "        first, last, sal = emp_string.split('-')\n",
    "        return cls(first, last, float(sal))\n",
    "    \n",
    "    # Implementing a static method - there should be no refrence to the class or \n",
    "    # instance in static method. If you have defined a regular method or a class\n",
    "    # method and not referring to the class or the instance, we probably need to \n",
    "    # convert the method to a static method. \n",
    "    @staticmethod\n",
    "    def is_workday(day):\n",
    "        return not (day.weekday() == 5 or day.weekday() == 6) ## weekday is a function in python \n",
    "    "
   ]
  },
  {
   "cell_type": "code",
   "execution_count": 57,
   "id": "f1544d8f",
   "metadata": {},
   "outputs": [
    {
     "data": {
      "text/plain": [
       "True"
      ]
     },
     "execution_count": 57,
     "metadata": {},
     "output_type": "execute_result"
    }
   ],
   "source": [
    "import datetime\n",
    "my_date = datetime.date(2023, 12, 18)\n",
    "Employee.is_workday(my_date)"
   ]
  },
  {
   "cell_type": "markdown",
   "id": "e15c6282",
   "metadata": {},
   "source": [
    "## Inheritence "
   ]
  },
  {
   "cell_type": "markdown",
   "id": "06de5e6f",
   "metadata": {},
   "source": [
    "### Creaing subclasses\n",
    "**Create ProjectManagement and ClientService classes with employee class**"
   ]
  },
  {
   "cell_type": "code",
   "execution_count": 58,
   "id": "213fe9e3",
   "metadata": {},
   "outputs": [],
   "source": [
    "# Create a new ClientService class using employee class\n",
    "class ClientService(Employee):\n",
    "    pass"
   ]
  },
  {
   "cell_type": "code",
   "execution_count": 60,
   "id": "d0725b3d",
   "metadata": {},
   "outputs": [
    {
     "name": "stdout",
     "output_type": "stream",
     "text": [
      "Vang Anh\n",
      "vang.anh@kantar.com\n"
     ]
    }
   ],
   "source": [
    "va = ClientService('Vang', 'Anh', 2_000)\n",
    "print(va.fullname())\n",
    "print(va.email)"
   ]
  },
  {
   "cell_type": "markdown",
   "id": "1e50024e",
   "metadata": {},
   "source": [
    "### Help on method resolution order"
   ]
  },
  {
   "cell_type": "code",
   "execution_count": 61,
   "id": "d9be8a33",
   "metadata": {
    "scrolled": true
   },
   "outputs": [
    {
     "name": "stdout",
     "output_type": "stream",
     "text": [
      "Help on class ClientService in module __main__:\n",
      "\n",
      "class ClientService(Employee)\n",
      " |  ClientService(first, last, pay)\n",
      " |  \n",
      " |  Method resolution order:\n",
      " |      ClientService\n",
      " |      Employee\n",
      " |      builtins.object\n",
      " |  \n",
      " |  Methods inherited from Employee:\n",
      " |  \n",
      " |  __init__(self, first, last, pay)\n",
      " |      Initialize self.  See help(type(self)) for accurate signature.\n",
      " |  \n",
      " |  apply_raise(self)\n",
      " |      ## The class variable can be referred to through instance (self) or through class\n",
      " |  \n",
      " |  fullname(self)\n",
      " |  \n",
      " |  get_pay(sef)\n",
      " |  \n",
      " |  ----------------------------------------------------------------------\n",
      " |  Class methods inherited from Employee:\n",
      " |  \n",
      " |  from_string(emp_string) from builtins.type\n",
      " |  \n",
      " |  set_raise_amount(amount) from builtins.type\n",
      " |      # Using the decorator to define a class method\n",
      " |  \n",
      " |  ----------------------------------------------------------------------\n",
      " |  Static methods inherited from Employee:\n",
      " |  \n",
      " |  is_workday(day)\n",
      " |      # Implementing a static method - there should be no refrence to the class or \n",
      " |      # instance in static method. If you have defined a regular method or a class\n",
      " |      # method and not referring to the class or the instance, we probably need to \n",
      " |      # convert the method to a static method.\n",
      " |  \n",
      " |  ----------------------------------------------------------------------\n",
      " |  Data descriptors inherited from Employee:\n",
      " |  \n",
      " |  __dict__\n",
      " |      dictionary for instance variables (if defined)\n",
      " |  \n",
      " |  __weakref__\n",
      " |      list of weak references to the object (if defined)\n",
      " |  \n",
      " |  ----------------------------------------------------------------------\n",
      " |  Data and other attributes inherited from Employee:\n",
      " |  \n",
      " |  no_of_employees = 2\n",
      " |  \n",
      " |  raise_amount = 1.04\n",
      "\n",
      "None\n"
     ]
    }
   ],
   "source": [
    "print(help(ClientService))"
   ]
  },
  {
   "cell_type": "code",
   "execution_count": 114,
   "id": "3e5f74ee",
   "metadata": {},
   "outputs": [
    {
     "name": "stdout",
     "output_type": "stream",
     "text": [
      "2000\n",
      "2200\n",
      "Rangers\n",
      "Rathin Das\n",
      "30000\n",
      "Trek\n"
     ]
    }
   ],
   "source": [
    "#Customizing the subclass\n",
    "\n",
    "\n",
    "class ClientService(Employee):\n",
    "    raise_amount = 1.10\n",
    "    \n",
    "    def __init__(self, first, last, pay, team = None):\n",
    "        super().__init__(first, last, pay)\n",
    "        self.team = team\n",
    "        \n",
    "\n",
    "va = ClientService('Vang', 'Anh', 2_000, \"Rangers\")\n",
    "rd = ClientService('Rathin', 'Das', 30_000, \"Trek\")\n",
    "\n",
    "\n",
    "print(va.pay)\n",
    "va.apply_raise()\n",
    "\n",
    "print(va.pay)\n",
    "print(va.team)\n",
    "\n",
    "print(rd.fullname())\n",
    "print(rd.pay)\n",
    "print(rd.team)"
   ]
  },
  {
   "cell_type": "markdown",
   "id": "1b3a1dd3",
   "metadata": {},
   "source": [
    "### Another class with some more additional features"
   ]
  },
  {
   "cell_type": "code",
   "execution_count": 99,
   "id": "1e0ee556",
   "metadata": {},
   "outputs": [],
   "source": [
    "## Another subclass Manager\n",
    "class Manager (Employee):\n",
    "    def __init__ (self, first, last, pay, employees = None): #Never set an empty list or an mutable as a default argument\n",
    "        super().__init__(first, last, pay)\n",
    "        self.employees = employees if employees else []\n",
    "\n",
    "    def add_employee(self, emp):\n",
    "        if emp not in self.employees:\n",
    "            self.employees.append(emp)\n",
    "        \n",
    "    def remove_employee(self, emp):\n",
    "        if emp in self.employees:\n",
    "            self.employees.remove(emp) \n",
    "    def print_employees(self):\n",
    "        print (f\"{self.first}'s Employees list:\")\n",
    "        print(\"-------------------------------\")\n",
    "        for emp in self.employees:\n",
    "            print(emp.fullname())"
   ]
  },
  {
   "cell_type": "code",
   "execution_count": 103,
   "id": "e5d17a7e",
   "metadata": {
    "scrolled": true
   },
   "outputs": [
    {
     "name": "stdout",
     "output_type": "stream",
     "text": [
      "Name: Sumit Kamra \n",
      "Salary: 20000 \n",
      "email: sumit.kamra@kantar.com\n",
      "[<__main__.ClientService object at 0x7f263f9ab5e0>, <__main__.ClientService object at 0x7f263f9ce590>]\n",
      "Name: Rashid Khan \n",
      "Salary: 22000 \n",
      "email: rashid.khan@kantar.com\n",
      "[]\n",
      "Rashid's Employees list:\n",
      "-------------------------------\n",
      "Duong Le\n",
      "Sumit's Employees list:\n",
      "-------------------------------\n",
      "Vang Anh\n",
      "Rathin Das\n"
     ]
    }
   ],
   "source": [
    "sumit = Manager('Sumit', 'Kamra', 20_000, [va, rd])\n",
    "\n",
    "print(sumit.get_description())\n",
    "print(sumit.employees)\n",
    "\n",
    "rashid = Manager('Rashid', 'Khan', 22_000)\n",
    "print(rashid.get_description())\n",
    "print(rashid.employees)\n",
    "\n",
    "duong = ClientService('Duong', 'Le', 3000, 'AP')\n",
    "\n",
    "rashid.add_employee(duong)\n",
    "rashid.print_employees()\n",
    "sumit.print_employees()"
   ]
  },
  {
   "cell_type": "code",
   "execution_count": 104,
   "id": "cc6f17e1",
   "metadata": {},
   "outputs": [],
   "source": [
    "sumit.add_employee(rd)"
   ]
  },
  {
   "cell_type": "code",
   "execution_count": 109,
   "id": "d69e25ea",
   "metadata": {},
   "outputs": [
    {
     "name": "stdout",
     "output_type": "stream",
     "text": [
      "Sumit's Employees list:\n",
      "-------------------------------\n",
      "Vang Anh\n",
      "Rathin Das\n",
      "Rashid's Employees list:\n",
      "-------------------------------\n",
      "Duong Le\n",
      "Rathin Das\n"
     ]
    }
   ],
   "source": [
    "sumit.print_employees()\n",
    "rashid.add_employee(rd)\n",
    "rashid.print_employees()"
   ]
  },
  {
   "cell_type": "markdown",
   "id": "ba4bb735",
   "metadata": {},
   "source": [
    "### Useful functions such as isinstance and issubclass"
   ]
  },
  {
   "cell_type": "code",
   "execution_count": 110,
   "id": "497eaa20",
   "metadata": {},
   "outputs": [
    {
     "name": "stdout",
     "output_type": "stream",
     "text": [
      "True\n",
      "True\n",
      "False\n",
      "True\n",
      "False\n"
     ]
    }
   ],
   "source": [
    "print(isinstance(sumit, Employee))\n",
    "print(isinstance(sumit, Manager))\n",
    "print(isinstance(rd, Employee))\n",
    "print(isinstance(sumit, Manager))\n",
    "print(isinstance(sumit, ClientService))"
   ]
  },
  {
   "cell_type": "code",
   "execution_count": 115,
   "id": "6b1d356b",
   "metadata": {},
   "outputs": [
    {
     "name": "stdout",
     "output_type": "stream",
     "text": [
      "True\n",
      "True\n",
      "False\n"
     ]
    }
   ],
   "source": [
    "print(issubclass(Manager, Employee))\n",
    "print(issubclass(ClientService, Employee))\n",
    "print(issubclass(Manager, ClientService))\n"
   ]
  }
 ],
 "metadata": {
  "kernelspec": {
   "display_name": "Python 3 (ipykernel)",
   "language": "python",
   "name": "python3"
  },
  "language_info": {
   "codemirror_mode": {
    "name": "ipython",
    "version": 3
   },
   "file_extension": ".py",
   "mimetype": "text/x-python",
   "name": "python",
   "nbconvert_exporter": "python",
   "pygments_lexer": "ipython3",
   "version": "3.10.6"
  },
  "toc": {
   "base_numbering": 1,
   "nav_menu": {},
   "number_sections": true,
   "sideBar": true,
   "skip_h1_title": false,
   "title_cell": "Table of Contents",
   "title_sidebar": "Contents",
   "toc_cell": false,
   "toc_position": {},
   "toc_section_display": true,
   "toc_window_display": false
  }
 },
 "nbformat": 4,
 "nbformat_minor": 5
}
